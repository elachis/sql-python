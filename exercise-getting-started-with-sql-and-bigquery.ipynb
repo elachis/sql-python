{
 "cells": [
  {
   "cell_type": "markdown",
   "id": "03ad0755",
   "metadata": {
    "papermill": {
     "duration": 0.005232,
     "end_time": "2025-02-12T10:18:41.180606",
     "exception": false,
     "start_time": "2025-02-12T10:18:41.175374",
     "status": "completed"
    },
    "tags": []
   },
   "source": [
    "**This notebook is an exercise in the [SQL](https://www.kaggle.com/learn/intro-to-sql) course.  You can reference the tutorial at [this link](https://www.kaggle.com/dansbecker/getting-started-with-sql-and-bigquery).**\n",
    "\n",
    "---\n"
   ]
  },
  {
   "cell_type": "markdown",
   "id": "f7ce9bcd",
   "metadata": {
    "papermill": {
     "duration": 0.004484,
     "end_time": "2025-02-12T10:18:41.190118",
     "exception": false,
     "start_time": "2025-02-12T10:18:41.185634",
     "status": "completed"
    },
    "tags": []
   },
   "source": [
    "# Introduction\n",
    "\n",
    "The first test of your new data exploration skills uses data describing crime in the city of Chicago.\n",
    "\n",
    "Before you get started, run the following cell. It sets up the automated feedback system to review your answers."
   ]
  },
  {
   "cell_type": "code",
   "execution_count": 1,
   "id": "00b165e1",
   "metadata": {
    "execution": {
     "iopub.execute_input": "2025-02-12T10:18:41.200986Z",
     "iopub.status.busy": "2025-02-12T10:18:41.200512Z",
     "iopub.status.idle": "2025-02-12T10:18:57.880741Z",
     "shell.execute_reply": "2025-02-12T10:18:57.879324Z"
    },
    "papermill": {
     "duration": 16.687937,
     "end_time": "2025-02-12T10:18:57.882753",
     "exception": false,
     "start_time": "2025-02-12T10:18:41.194816",
     "status": "completed"
    },
    "tags": []
   },
   "outputs": [
    {
     "name": "stderr",
     "output_type": "stream",
     "text": [
      "/usr/local/lib/python3.10/dist-packages/learntools/sql/ex1.py:64: SyntaxWarning: assertion is always true, perhaps remove parentheses?\n",
      "  assert (type(fields_for_plotting[0] == str), \"The first item in `fields_for_plotting` should be a string.\")\n",
      "/usr/local/lib/python3.10/dist-packages/learntools/sql/ex1.py:65: SyntaxWarning: assertion is always true, perhaps remove parentheses?\n",
      "  assert (type(fields_for_plotting[1] == str), \"The second item in `fields_for_plotting` should be a string.\")\n"
     ]
    },
    {
     "name": "stdout",
     "output_type": "stream",
     "text": [
      "Using Kaggle's public dataset BigQuery integration.\n",
      "Setup Complete\n"
     ]
    }
   ],
   "source": [
    "# Set up feedack system\n",
    "from learntools.core import binder\n",
    "binder.bind(globals())\n",
    "from learntools.sql.ex1 import *\n",
    "print(\"Setup Complete\")"
   ]
  },
  {
   "cell_type": "markdown",
   "id": "c7c035fa",
   "metadata": {
    "papermill": {
     "duration": 0.004547,
     "end_time": "2025-02-12T10:18:57.892431",
     "exception": false,
     "start_time": "2025-02-12T10:18:57.887884",
     "status": "completed"
    },
    "tags": []
   },
   "source": [
    "Use the next code cell to fetch the dataset."
   ]
  },
  {
   "cell_type": "code",
   "execution_count": 2,
   "id": "59b4be6a",
   "metadata": {
    "execution": {
     "iopub.execute_input": "2025-02-12T10:18:57.904798Z",
     "iopub.status.busy": "2025-02-12T10:18:57.903964Z",
     "iopub.status.idle": "2025-02-12T10:18:58.335055Z",
     "shell.execute_reply": "2025-02-12T10:18:58.333882Z"
    },
    "papermill": {
     "duration": 0.438911,
     "end_time": "2025-02-12T10:18:58.336880",
     "exception": false,
     "start_time": "2025-02-12T10:18:57.897969",
     "status": "completed"
    },
    "tags": []
   },
   "outputs": [
    {
     "name": "stdout",
     "output_type": "stream",
     "text": [
      "Using Kaggle's public dataset BigQuery integration.\n"
     ]
    }
   ],
   "source": [
    "from google.cloud import bigquery\n",
    "\n",
    "# Create a \"Client\" object\n",
    "client = bigquery.Client()\n",
    "\n",
    "# Construct a reference to the \"chicago_crime\" dataset\n",
    "dataset_ref = client.dataset(\"chicago_crime\", project=\"bigquery-public-data\")\n",
    "\n",
    "# API request - fetch the dataset\n",
    "dataset = client.get_dataset(dataset_ref)"
   ]
  },
  {
   "cell_type": "markdown",
   "id": "c1eb38bf",
   "metadata": {
    "papermill": {
     "duration": 0.004561,
     "end_time": "2025-02-12T10:18:58.346693",
     "exception": false,
     "start_time": "2025-02-12T10:18:58.342132",
     "status": "completed"
    },
    "tags": []
   },
   "source": [
    "# Exercises\n",
    "\n",
    "### 1) Count tables in the dataset\n",
    "\n",
    "How many tables are in the Chicago Crime dataset?"
   ]
  },
  {
   "cell_type": "code",
   "execution_count": 3,
   "id": "a9e372df",
   "metadata": {
    "execution": {
     "iopub.execute_input": "2025-02-12T10:18:58.358142Z",
     "iopub.status.busy": "2025-02-12T10:18:58.357621Z",
     "iopub.status.idle": "2025-02-12T10:18:58.756024Z",
     "shell.execute_reply": "2025-02-12T10:18:58.754556Z"
    },
    "papermill": {
     "duration": 0.406548,
     "end_time": "2025-02-12T10:18:58.758049",
     "exception": false,
     "start_time": "2025-02-12T10:18:58.351501",
     "status": "completed"
    },
    "tags": []
   },
   "outputs": [
    {
     "name": "stdout",
     "output_type": "stream",
     "text": [
      "['crime']\n"
     ]
    }
   ],
   "source": [
    "# Write the code you need here to figure out the answer\n",
    "table_idm = [m.table_id for m in client.list_tables(dataset)]\n",
    "print(table_idm)"
   ]
  },
  {
   "cell_type": "code",
   "execution_count": 4,
   "id": "b0eca91b",
   "metadata": {
    "execution": {
     "iopub.execute_input": "2025-02-12T10:18:58.769413Z",
     "iopub.status.busy": "2025-02-12T10:18:58.769061Z",
     "iopub.status.idle": "2025-02-12T10:18:58.777352Z",
     "shell.execute_reply": "2025-02-12T10:18:58.776249Z"
    },
    "papermill": {
     "duration": 0.016105,
     "end_time": "2025-02-12T10:18:58.779187",
     "exception": false,
     "start_time": "2025-02-12T10:18:58.763082",
     "status": "completed"
    },
    "tags": []
   },
   "outputs": [
    {
     "data": {
      "application/javascript": [
       "parent.postMessage({\"jupyterEvent\": \"custom.exercise_interaction\", \"data\": {\"outcomeType\": 1, \"valueTowardsCompletion\": 0.3333333333333333, \"interactionType\": 1, \"questionType\": 1, \"questionId\": \"1_CountTables\", \"learnToolsVersion\": \"0.3.4\", \"failureMessage\": \"\", \"exceptionClass\": \"\", \"trace\": \"\"}}, \"*\")"
      ],
      "text/plain": [
       "<IPython.core.display.Javascript object>"
      ]
     },
     "metadata": {},
     "output_type": "display_data"
    },
    {
     "data": {
      "text/markdown": [
       "<span style=\"color:#33cc33\">Correct</span>"
      ],
      "text/plain": [
       "Correct"
      ]
     },
     "metadata": {},
     "output_type": "display_data"
    }
   ],
   "source": [
    "num_tables = len(table_idm)  # Store the answer as num_tables and then run this cell\n",
    "\n",
    "# Check your answer\n",
    "q_1.check()"
   ]
  },
  {
   "cell_type": "markdown",
   "id": "39861b73",
   "metadata": {
    "papermill": {
     "duration": 0.004737,
     "end_time": "2025-02-12T10:18:58.789240",
     "exception": false,
     "start_time": "2025-02-12T10:18:58.784503",
     "status": "completed"
    },
    "tags": []
   },
   "source": [
    "For a hint or the solution, uncomment the appropriate line below."
   ]
  },
  {
   "cell_type": "code",
   "execution_count": 5,
   "id": "783f8b88",
   "metadata": {
    "execution": {
     "iopub.execute_input": "2025-02-12T10:18:58.801047Z",
     "iopub.status.busy": "2025-02-12T10:18:58.800494Z",
     "iopub.status.idle": "2025-02-12T10:18:58.804610Z",
     "shell.execute_reply": "2025-02-12T10:18:58.803377Z"
    },
    "papermill": {
     "duration": 0.011939,
     "end_time": "2025-02-12T10:18:58.806406",
     "exception": false,
     "start_time": "2025-02-12T10:18:58.794467",
     "status": "completed"
    },
    "tags": []
   },
   "outputs": [],
   "source": [
    "#q_1.hint()\n",
    "#q_1.solution()"
   ]
  },
  {
   "cell_type": "markdown",
   "id": "16387dd0",
   "metadata": {
    "papermill": {
     "duration": 0.005384,
     "end_time": "2025-02-12T10:18:58.817377",
     "exception": false,
     "start_time": "2025-02-12T10:18:58.811993",
     "status": "completed"
    },
    "tags": []
   },
   "source": [
    "### 2) Explore the table schema\n",
    "\n",
    "How many columns in the `crime` table have `TIMESTAMP` data?"
   ]
  },
  {
   "cell_type": "code",
   "execution_count": 6,
   "id": "574b1d89",
   "metadata": {
    "execution": {
     "iopub.execute_input": "2025-02-12T10:18:58.829865Z",
     "iopub.status.busy": "2025-02-12T10:18:58.829482Z",
     "iopub.status.idle": "2025-02-12T10:18:59.268130Z",
     "shell.execute_reply": "2025-02-12T10:18:59.267161Z"
    },
    "papermill": {
     "duration": 0.44743,
     "end_time": "2025-02-12T10:18:59.270037",
     "exception": false,
     "start_time": "2025-02-12T10:18:58.822607",
     "status": "completed"
    },
    "tags": []
   },
   "outputs": [
    {
     "data": {
      "text/plain": [
       "[SchemaField('unique_key', 'INTEGER', 'REQUIRED', None, None, (), None),\n",
       " SchemaField('case_number', 'STRING', 'NULLABLE', None, None, (), None),\n",
       " SchemaField('date', 'TIMESTAMP', 'NULLABLE', None, None, (), None),\n",
       " SchemaField('block', 'STRING', 'NULLABLE', None, None, (), None),\n",
       " SchemaField('iucr', 'STRING', 'NULLABLE', None, None, (), None),\n",
       " SchemaField('primary_type', 'STRING', 'NULLABLE', None, None, (), None),\n",
       " SchemaField('description', 'STRING', 'NULLABLE', None, None, (), None),\n",
       " SchemaField('location_description', 'STRING', 'NULLABLE', None, None, (), None),\n",
       " SchemaField('arrest', 'BOOLEAN', 'NULLABLE', None, None, (), None),\n",
       " SchemaField('domestic', 'BOOLEAN', 'NULLABLE', None, None, (), None),\n",
       " SchemaField('beat', 'INTEGER', 'NULLABLE', None, None, (), None),\n",
       " SchemaField('district', 'INTEGER', 'NULLABLE', None, None, (), None),\n",
       " SchemaField('ward', 'INTEGER', 'NULLABLE', None, None, (), None),\n",
       " SchemaField('community_area', 'INTEGER', 'NULLABLE', None, None, (), None),\n",
       " SchemaField('fbi_code', 'STRING', 'NULLABLE', None, None, (), None),\n",
       " SchemaField('x_coordinate', 'FLOAT', 'NULLABLE', None, None, (), None),\n",
       " SchemaField('y_coordinate', 'FLOAT', 'NULLABLE', None, None, (), None),\n",
       " SchemaField('year', 'INTEGER', 'NULLABLE', None, None, (), None),\n",
       " SchemaField('updated_on', 'TIMESTAMP', 'NULLABLE', None, None, (), None),\n",
       " SchemaField('latitude', 'FLOAT', 'NULLABLE', None, None, (), None),\n",
       " SchemaField('longitude', 'FLOAT', 'NULLABLE', None, None, (), None),\n",
       " SchemaField('location', 'STRING', 'NULLABLE', None, None, (), None)]"
      ]
     },
     "execution_count": 6,
     "metadata": {},
     "output_type": "execute_result"
    }
   ],
   "source": [
    "# Write the code to figure out the answer\n",
    "table_ref = dataset_ref.table(\"crime\")\n",
    "\n",
    "table = client.get_table(table_ref)\n",
    "\n",
    "table.schema"
   ]
  },
  {
   "cell_type": "code",
   "execution_count": 7,
   "id": "0e4a16f4",
   "metadata": {
    "execution": {
     "iopub.execute_input": "2025-02-12T10:18:59.282026Z",
     "iopub.status.busy": "2025-02-12T10:18:59.281599Z",
     "iopub.status.idle": "2025-02-12T10:18:59.289951Z",
     "shell.execute_reply": "2025-02-12T10:18:59.288872Z"
    },
    "papermill": {
     "duration": 0.016413,
     "end_time": "2025-02-12T10:18:59.291889",
     "exception": false,
     "start_time": "2025-02-12T10:18:59.275476",
     "status": "completed"
    },
    "tags": []
   },
   "outputs": [
    {
     "data": {
      "application/javascript": [
       "parent.postMessage({\"jupyterEvent\": \"custom.exercise_interaction\", \"data\": {\"outcomeType\": 1, \"valueTowardsCompletion\": 0.3333333333333333, \"interactionType\": 1, \"questionType\": 1, \"questionId\": \"2_CountTimestampFields\", \"learnToolsVersion\": \"0.3.4\", \"failureMessage\": \"\", \"exceptionClass\": \"\", \"trace\": \"\"}}, \"*\")"
      ],
      "text/plain": [
       "<IPython.core.display.Javascript object>"
      ]
     },
     "metadata": {},
     "output_type": "display_data"
    },
    {
     "data": {
      "text/markdown": [
       "<span style=\"color:#33cc33\">Correct</span>"
      ],
      "text/plain": [
       "Correct"
      ]
     },
     "metadata": {},
     "output_type": "display_data"
    }
   ],
   "source": [
    "timestamp_fields = [n for n in table.schema if n.field_type == 'TIMESTAMP'] \n",
    "num_timestamp_fields = len(timestamp_fields)\n",
    "# Put your answer here\n",
    "\n",
    "# Check your answer\n",
    "q_2.check()"
   ]
  },
  {
   "cell_type": "markdown",
   "id": "2c10864e",
   "metadata": {
    "papermill": {
     "duration": 0.005258,
     "end_time": "2025-02-12T10:18:59.303267",
     "exception": false,
     "start_time": "2025-02-12T10:18:59.298009",
     "status": "completed"
    },
    "tags": []
   },
   "source": [
    "For a hint or the solution, uncomment the appropriate line below."
   ]
  },
  {
   "cell_type": "code",
   "execution_count": 8,
   "id": "d01dcd47",
   "metadata": {
    "execution": {
     "iopub.execute_input": "2025-02-12T10:18:59.315798Z",
     "iopub.status.busy": "2025-02-12T10:18:59.315451Z",
     "iopub.status.idle": "2025-02-12T10:18:59.319339Z",
     "shell.execute_reply": "2025-02-12T10:18:59.318267Z"
    },
    "papermill": {
     "duration": 0.012299,
     "end_time": "2025-02-12T10:18:59.321147",
     "exception": false,
     "start_time": "2025-02-12T10:18:59.308848",
     "status": "completed"
    },
    "tags": []
   },
   "outputs": [],
   "source": [
    "#q_2.hint()\n",
    "#q_2.solution()"
   ]
  },
  {
   "cell_type": "markdown",
   "id": "1b31d02e",
   "metadata": {
    "papermill": {
     "duration": 0.005396,
     "end_time": "2025-02-12T10:18:59.332156",
     "exception": false,
     "start_time": "2025-02-12T10:18:59.326760",
     "status": "completed"
    },
    "tags": []
   },
   "source": [
    "### 3) Create a crime map\n",
    "\n",
    "If you wanted to create a map with a dot at the location of each crime, what are the names of the two fields you likely need to pull out of the `crime` table to plot the crimes on a map?"
   ]
  },
  {
   "cell_type": "code",
   "execution_count": 9,
   "id": "d5c017c5",
   "metadata": {
    "execution": {
     "iopub.execute_input": "2025-02-12T10:18:59.344087Z",
     "iopub.status.busy": "2025-02-12T10:18:59.343642Z",
     "iopub.status.idle": "2025-02-12T10:19:00.028721Z",
     "shell.execute_reply": "2025-02-12T10:19:00.027537Z"
    },
    "papermill": {
     "duration": 0.692962,
     "end_time": "2025-02-12T10:19:00.030474",
     "exception": false,
     "start_time": "2025-02-12T10:18:59.337512",
     "status": "completed"
    },
    "tags": []
   },
   "outputs": [
    {
     "data": {
      "text/html": [
       "<div>\n",
       "<style scoped>\n",
       "    .dataframe tbody tr th:only-of-type {\n",
       "        vertical-align: middle;\n",
       "    }\n",
       "\n",
       "    .dataframe tbody tr th {\n",
       "        vertical-align: top;\n",
       "    }\n",
       "\n",
       "    .dataframe thead th {\n",
       "        text-align: right;\n",
       "    }\n",
       "</style>\n",
       "<table border=\"1\" class=\"dataframe\">\n",
       "  <thead>\n",
       "    <tr style=\"text-align: right;\">\n",
       "      <th></th>\n",
       "      <th>unique_key</th>\n",
       "      <th>case_number</th>\n",
       "      <th>date</th>\n",
       "      <th>block</th>\n",
       "      <th>iucr</th>\n",
       "      <th>primary_type</th>\n",
       "      <th>description</th>\n",
       "      <th>location_description</th>\n",
       "      <th>arrest</th>\n",
       "      <th>domestic</th>\n",
       "      <th>...</th>\n",
       "      <th>ward</th>\n",
       "      <th>community_area</th>\n",
       "      <th>fbi_code</th>\n",
       "      <th>x_coordinate</th>\n",
       "      <th>y_coordinate</th>\n",
       "      <th>year</th>\n",
       "      <th>updated_on</th>\n",
       "      <th>latitude</th>\n",
       "      <th>longitude</th>\n",
       "      <th>location</th>\n",
       "    </tr>\n",
       "  </thead>\n",
       "  <tbody>\n",
       "    <tr>\n",
       "      <th>0</th>\n",
       "      <td>6486359</td>\n",
       "      <td>HP558646</td>\n",
       "      <td>2008-09-07 01:00:00+00:00</td>\n",
       "      <td>004XX W RANDOLPH ST</td>\n",
       "      <td>0281</td>\n",
       "      <td>CRIM SEXUAL ASSAULT</td>\n",
       "      <td>NON-AGGRAVATED</td>\n",
       "      <td>BAR OR TAVERN</td>\n",
       "      <td>False</td>\n",
       "      <td>False</td>\n",
       "      <td>...</td>\n",
       "      <td>42</td>\n",
       "      <td>28</td>\n",
       "      <td>02</td>\n",
       "      <td>1173259.0</td>\n",
       "      <td>1901247.0</td>\n",
       "      <td>2008</td>\n",
       "      <td>2018-02-28 15:56:25+00:00</td>\n",
       "      <td>41.884447</td>\n",
       "      <td>-87.639225</td>\n",
       "      <td>(41.884447496, -87.639224814)</td>\n",
       "    </tr>\n",
       "    <tr>\n",
       "      <th>1</th>\n",
       "      <td>13228038</td>\n",
       "      <td>JG444525</td>\n",
       "      <td>2023-09-29 23:00:00+00:00</td>\n",
       "      <td>0000X E LOWER WACKER DR</td>\n",
       "      <td>0312</td>\n",
       "      <td>ROBBERY</td>\n",
       "      <td>ARMED - KNIFE / CUTTING INSTRUMENT</td>\n",
       "      <td>SIDEWALK</td>\n",
       "      <td>False</td>\n",
       "      <td>False</td>\n",
       "      <td>...</td>\n",
       "      <td>42</td>\n",
       "      <td>32</td>\n",
       "      <td>03</td>\n",
       "      <td>1177080.0</td>\n",
       "      <td>1902693.0</td>\n",
       "      <td>2023</td>\n",
       "      <td>2023-10-07 15:42:05+00:00</td>\n",
       "      <td>41.888330</td>\n",
       "      <td>-87.625150</td>\n",
       "      <td>(41.888329732, -87.625149941)</td>\n",
       "    </tr>\n",
       "    <tr>\n",
       "      <th>2</th>\n",
       "      <td>12750356</td>\n",
       "      <td>JF304450</td>\n",
       "      <td>2022-07-03 22:18:00+00:00</td>\n",
       "      <td>0000X E LAKE ST</td>\n",
       "      <td>0312</td>\n",
       "      <td>ROBBERY</td>\n",
       "      <td>ARMED - KNIFE / CUTTING INSTRUMENT</td>\n",
       "      <td>SMALL RETAIL STORE</td>\n",
       "      <td>False</td>\n",
       "      <td>False</td>\n",
       "      <td>...</td>\n",
       "      <td>42</td>\n",
       "      <td>32</td>\n",
       "      <td>03</td>\n",
       "      <td>1176905.0</td>\n",
       "      <td>1901744.0</td>\n",
       "      <td>2022</td>\n",
       "      <td>2023-01-03 15:40:27+00:00</td>\n",
       "      <td>41.885730</td>\n",
       "      <td>-87.625821</td>\n",
       "      <td>(41.885729587, -87.625821329)</td>\n",
       "    </tr>\n",
       "    <tr>\n",
       "      <th>3</th>\n",
       "      <td>11943977</td>\n",
       "      <td>JD106803</td>\n",
       "      <td>2020-01-06 20:38:00+00:00</td>\n",
       "      <td>0000X W RANDOLPH ST</td>\n",
       "      <td>0313</td>\n",
       "      <td>ROBBERY</td>\n",
       "      <td>ARMED: OTHER DANGEROUS WEAPON</td>\n",
       "      <td>HOTEL/MOTEL</td>\n",
       "      <td>False</td>\n",
       "      <td>False</td>\n",
       "      <td>...</td>\n",
       "      <td>42</td>\n",
       "      <td>32</td>\n",
       "      <td>03</td>\n",
       "      <td>1176068.0</td>\n",
       "      <td>1901284.0</td>\n",
       "      <td>2020</td>\n",
       "      <td>2020-01-13 15:41:18+00:00</td>\n",
       "      <td>41.884486</td>\n",
       "      <td>-87.628909</td>\n",
       "      <td>(41.884486217, -87.628908795)</td>\n",
       "    </tr>\n",
       "    <tr>\n",
       "      <th>4</th>\n",
       "      <td>8946637</td>\n",
       "      <td>HV618899</td>\n",
       "      <td>2012-12-28 00:29:00+00:00</td>\n",
       "      <td>0000X W LAKE ST</td>\n",
       "      <td>031A</td>\n",
       "      <td>ROBBERY</td>\n",
       "      <td>ARMED: HANDGUN</td>\n",
       "      <td>OTHER</td>\n",
       "      <td>False</td>\n",
       "      <td>False</td>\n",
       "      <td>...</td>\n",
       "      <td>42</td>\n",
       "      <td>32</td>\n",
       "      <td>03</td>\n",
       "      <td>1176077.0</td>\n",
       "      <td>1901744.0</td>\n",
       "      <td>2012</td>\n",
       "      <td>2018-02-10 15:50:01+00:00</td>\n",
       "      <td>41.885748</td>\n",
       "      <td>-87.628862</td>\n",
       "      <td>(41.88574828, -87.628861879)</td>\n",
       "    </tr>\n",
       "    <tr>\n",
       "      <th>5</th>\n",
       "      <td>12218120</td>\n",
       "      <td>JD427786</td>\n",
       "      <td>2020-11-10 22:04:00+00:00</td>\n",
       "      <td>0000X E LAKE ST</td>\n",
       "      <td>031A</td>\n",
       "      <td>ROBBERY</td>\n",
       "      <td>ARMED - HANDGUN</td>\n",
       "      <td>STREET</td>\n",
       "      <td>False</td>\n",
       "      <td>False</td>\n",
       "      <td>...</td>\n",
       "      <td>42</td>\n",
       "      <td>32</td>\n",
       "      <td>03</td>\n",
       "      <td>1176981.0</td>\n",
       "      <td>1901745.0</td>\n",
       "      <td>2020</td>\n",
       "      <td>2020-12-17 15:40:05+00:00</td>\n",
       "      <td>41.885731</td>\n",
       "      <td>-87.625542</td>\n",
       "      <td>(41.885730611, -87.625542215)</td>\n",
       "    </tr>\n",
       "    <tr>\n",
       "      <th>6</th>\n",
       "      <td>8112519</td>\n",
       "      <td>HT347572</td>\n",
       "      <td>2011-06-14 18:30:00+00:00</td>\n",
       "      <td>001XX N CLINTON ST</td>\n",
       "      <td>031A</td>\n",
       "      <td>ROBBERY</td>\n",
       "      <td>ARMED: HANDGUN</td>\n",
       "      <td>ALLEY</td>\n",
       "      <td>False</td>\n",
       "      <td>False</td>\n",
       "      <td>...</td>\n",
       "      <td>42</td>\n",
       "      <td>28</td>\n",
       "      <td>03</td>\n",
       "      <td>1172712.0</td>\n",
       "      <td>1900894.0</td>\n",
       "      <td>2011</td>\n",
       "      <td>2018-02-10 15:50:01+00:00</td>\n",
       "      <td>41.883491</td>\n",
       "      <td>-87.641244</td>\n",
       "      <td>(41.883490965, -87.641243905)</td>\n",
       "    </tr>\n",
       "    <tr>\n",
       "      <th>7</th>\n",
       "      <td>10233213</td>\n",
       "      <td>HY421303</td>\n",
       "      <td>2015-09-13 04:30:00+00:00</td>\n",
       "      <td>001XX N STATE ST</td>\n",
       "      <td>031A</td>\n",
       "      <td>ROBBERY</td>\n",
       "      <td>ARMED: HANDGUN</td>\n",
       "      <td>STREET</td>\n",
       "      <td>False</td>\n",
       "      <td>False</td>\n",
       "      <td>...</td>\n",
       "      <td>42</td>\n",
       "      <td>32</td>\n",
       "      <td>03</td>\n",
       "      <td>1176353.0</td>\n",
       "      <td>1900891.0</td>\n",
       "      <td>2015</td>\n",
       "      <td>2018-02-10 15:50:01+00:00</td>\n",
       "      <td>41.883401</td>\n",
       "      <td>-87.627874</td>\n",
       "      <td>(41.883401379, -87.627874112)</td>\n",
       "    </tr>\n",
       "  </tbody>\n",
       "</table>\n",
       "<p>8 rows × 22 columns</p>\n",
       "</div>"
      ],
      "text/plain": [
       "   unique_key case_number                      date                    block  \\\n",
       "0     6486359    HP558646 2008-09-07 01:00:00+00:00      004XX W RANDOLPH ST   \n",
       "1    13228038    JG444525 2023-09-29 23:00:00+00:00  0000X E LOWER WACKER DR   \n",
       "2    12750356    JF304450 2022-07-03 22:18:00+00:00          0000X E LAKE ST   \n",
       "3    11943977    JD106803 2020-01-06 20:38:00+00:00      0000X W RANDOLPH ST   \n",
       "4     8946637    HV618899 2012-12-28 00:29:00+00:00          0000X W LAKE ST   \n",
       "5    12218120    JD427786 2020-11-10 22:04:00+00:00          0000X E LAKE ST   \n",
       "6     8112519    HT347572 2011-06-14 18:30:00+00:00       001XX N CLINTON ST   \n",
       "7    10233213    HY421303 2015-09-13 04:30:00+00:00         001XX N STATE ST   \n",
       "\n",
       "   iucr         primary_type                         description  \\\n",
       "0  0281  CRIM SEXUAL ASSAULT                      NON-AGGRAVATED   \n",
       "1  0312              ROBBERY  ARMED - KNIFE / CUTTING INSTRUMENT   \n",
       "2  0312              ROBBERY  ARMED - KNIFE / CUTTING INSTRUMENT   \n",
       "3  0313              ROBBERY       ARMED: OTHER DANGEROUS WEAPON   \n",
       "4  031A              ROBBERY                      ARMED: HANDGUN   \n",
       "5  031A              ROBBERY                     ARMED - HANDGUN   \n",
       "6  031A              ROBBERY                      ARMED: HANDGUN   \n",
       "7  031A              ROBBERY                      ARMED: HANDGUN   \n",
       "\n",
       "  location_description  arrest  domestic  ...  ward  community_area  fbi_code  \\\n",
       "0        BAR OR TAVERN   False     False  ...    42              28        02   \n",
       "1             SIDEWALK   False     False  ...    42              32        03   \n",
       "2   SMALL RETAIL STORE   False     False  ...    42              32        03   \n",
       "3          HOTEL/MOTEL   False     False  ...    42              32        03   \n",
       "4                OTHER   False     False  ...    42              32        03   \n",
       "5               STREET   False     False  ...    42              32        03   \n",
       "6                ALLEY   False     False  ...    42              28        03   \n",
       "7               STREET   False     False  ...    42              32        03   \n",
       "\n",
       "   x_coordinate y_coordinate  year                updated_on   latitude  \\\n",
       "0     1173259.0    1901247.0  2008 2018-02-28 15:56:25+00:00  41.884447   \n",
       "1     1177080.0    1902693.0  2023 2023-10-07 15:42:05+00:00  41.888330   \n",
       "2     1176905.0    1901744.0  2022 2023-01-03 15:40:27+00:00  41.885730   \n",
       "3     1176068.0    1901284.0  2020 2020-01-13 15:41:18+00:00  41.884486   \n",
       "4     1176077.0    1901744.0  2012 2018-02-10 15:50:01+00:00  41.885748   \n",
       "5     1176981.0    1901745.0  2020 2020-12-17 15:40:05+00:00  41.885731   \n",
       "6     1172712.0    1900894.0  2011 2018-02-10 15:50:01+00:00  41.883491   \n",
       "7     1176353.0    1900891.0  2015 2018-02-10 15:50:01+00:00  41.883401   \n",
       "\n",
       "   longitude                       location  \n",
       "0 -87.639225  (41.884447496, -87.639224814)  \n",
       "1 -87.625150  (41.888329732, -87.625149941)  \n",
       "2 -87.625821  (41.885729587, -87.625821329)  \n",
       "3 -87.628909  (41.884486217, -87.628908795)  \n",
       "4 -87.628862   (41.88574828, -87.628861879)  \n",
       "5 -87.625542  (41.885730611, -87.625542215)  \n",
       "6 -87.641244  (41.883490965, -87.641243905)  \n",
       "7 -87.627874  (41.883401379, -87.627874112)  \n",
       "\n",
       "[8 rows x 22 columns]"
      ]
     },
     "execution_count": 9,
     "metadata": {},
     "output_type": "execute_result"
    }
   ],
   "source": [
    "# Write the code here to explore the data so you can find the answer\n",
    "client.list_rows(table, max_results = 8 ).to_dataframe()"
   ]
  },
  {
   "cell_type": "code",
   "execution_count": 10,
   "id": "936f3e22",
   "metadata": {
    "execution": {
     "iopub.execute_input": "2025-02-12T10:19:00.044200Z",
     "iopub.status.busy": "2025-02-12T10:19:00.043756Z",
     "iopub.status.idle": "2025-02-12T10:19:00.052019Z",
     "shell.execute_reply": "2025-02-12T10:19:00.050690Z"
    },
    "papermill": {
     "duration": 0.017521,
     "end_time": "2025-02-12T10:19:00.053934",
     "exception": false,
     "start_time": "2025-02-12T10:19:00.036413",
     "status": "completed"
    },
    "tags": []
   },
   "outputs": [
    {
     "data": {
      "application/javascript": [
       "parent.postMessage({\"jupyterEvent\": \"custom.exercise_interaction\", \"data\": {\"outcomeType\": 1, \"valueTowardsCompletion\": 0.3333333333333333, \"interactionType\": 1, \"questionType\": 2, \"questionId\": \"3_IdentifyFieldsForPlotting\", \"learnToolsVersion\": \"0.3.4\", \"failureMessage\": \"\", \"exceptionClass\": \"\", \"trace\": \"\"}}, \"*\")"
      ],
      "text/plain": [
       "<IPython.core.display.Javascript object>"
      ]
     },
     "metadata": {},
     "output_type": "display_data"
    },
    {
     "data": {
      "text/markdown": [
       "<span style=\"color:#33cc33\">Correct</span>"
      ],
      "text/plain": [
       "Correct"
      ]
     },
     "metadata": {},
     "output_type": "display_data"
    }
   ],
   "source": [
    "fields_for_plotting = [\"latitude\", \"longitude\"] # Put your answers here\n",
    "\n",
    "# Check your answer\n",
    "q_3.check()"
   ]
  },
  {
   "cell_type": "markdown",
   "id": "c1bd8606",
   "metadata": {
    "papermill": {
     "duration": 0.005875,
     "end_time": "2025-02-12T10:19:00.066223",
     "exception": false,
     "start_time": "2025-02-12T10:19:00.060348",
     "status": "completed"
    },
    "tags": []
   },
   "source": [
    "For a hint or the solution, uncomment the appropriate line below."
   ]
  },
  {
   "cell_type": "code",
   "execution_count": 11,
   "id": "ee98f216",
   "metadata": {
    "execution": {
     "iopub.execute_input": "2025-02-12T10:19:00.081375Z",
     "iopub.status.busy": "2025-02-12T10:19:00.081007Z",
     "iopub.status.idle": "2025-02-12T10:19:00.085062Z",
     "shell.execute_reply": "2025-02-12T10:19:00.083904Z"
    },
    "papermill": {
     "duration": 0.01306,
     "end_time": "2025-02-12T10:19:00.086765",
     "exception": false,
     "start_time": "2025-02-12T10:19:00.073705",
     "status": "completed"
    },
    "tags": []
   },
   "outputs": [],
   "source": [
    "#q_3.hint()\n",
    "#q_3.solution()"
   ]
  },
  {
   "cell_type": "markdown",
   "id": "cc37e045",
   "metadata": {
    "papermill": {
     "duration": 0.005697,
     "end_time": "2025-02-12T10:19:00.098829",
     "exception": false,
     "start_time": "2025-02-12T10:19:00.093132",
     "status": "completed"
    },
    "tags": []
   },
   "source": [
    "Thinking about the question above, there are a few columns that appear to have geographic data. Look at a few values (with the `list_rows()` command) to see if you can determine their relationship.  Two columns will still be hard to interpret. But it should be obvious how the `location` column relates to `latitude` and `longitude`."
   ]
  },
  {
   "cell_type": "code",
   "execution_count": 12,
   "id": "71caa958",
   "metadata": {
    "execution": {
     "iopub.execute_input": "2025-02-12T10:19:00.113067Z",
     "iopub.status.busy": "2025-02-12T10:19:00.112624Z",
     "iopub.status.idle": "2025-02-12T10:19:00.622602Z",
     "shell.execute_reply": "2025-02-12T10:19:00.621384Z"
    },
    "papermill": {
     "duration": 0.519934,
     "end_time": "2025-02-12T10:19:00.624814",
     "exception": false,
     "start_time": "2025-02-12T10:19:00.104880",
     "status": "completed"
    },
    "tags": []
   },
   "outputs": [
    {
     "data": {
      "text/html": [
       "<div>\n",
       "<style scoped>\n",
       "    .dataframe tbody tr th:only-of-type {\n",
       "        vertical-align: middle;\n",
       "    }\n",
       "\n",
       "    .dataframe tbody tr th {\n",
       "        vertical-align: top;\n",
       "    }\n",
       "\n",
       "    .dataframe thead th {\n",
       "        text-align: right;\n",
       "    }\n",
       "</style>\n",
       "<table border=\"1\" class=\"dataframe\">\n",
       "  <thead>\n",
       "    <tr style=\"text-align: right;\">\n",
       "      <th></th>\n",
       "      <th>updated_on</th>\n",
       "      <th>latitude</th>\n",
       "      <th>longitude</th>\n",
       "      <th>location</th>\n",
       "    </tr>\n",
       "  </thead>\n",
       "  <tbody>\n",
       "    <tr>\n",
       "      <th>0</th>\n",
       "      <td>2018-02-28 15:56:25+00:00</td>\n",
       "      <td>41.884447</td>\n",
       "      <td>-87.639225</td>\n",
       "      <td>(41.884447496, -87.639224814)</td>\n",
       "    </tr>\n",
       "    <tr>\n",
       "      <th>1</th>\n",
       "      <td>2023-10-07 15:42:05+00:00</td>\n",
       "      <td>41.888330</td>\n",
       "      <td>-87.625150</td>\n",
       "      <td>(41.888329732, -87.625149941)</td>\n",
       "    </tr>\n",
       "    <tr>\n",
       "      <th>2</th>\n",
       "      <td>2023-01-03 15:40:27+00:00</td>\n",
       "      <td>41.885730</td>\n",
       "      <td>-87.625821</td>\n",
       "      <td>(41.885729587, -87.625821329)</td>\n",
       "    </tr>\n",
       "    <tr>\n",
       "      <th>3</th>\n",
       "      <td>2020-01-13 15:41:18+00:00</td>\n",
       "      <td>41.884486</td>\n",
       "      <td>-87.628909</td>\n",
       "      <td>(41.884486217, -87.628908795)</td>\n",
       "    </tr>\n",
       "    <tr>\n",
       "      <th>4</th>\n",
       "      <td>2018-02-10 15:50:01+00:00</td>\n",
       "      <td>41.885748</td>\n",
       "      <td>-87.628862</td>\n",
       "      <td>(41.88574828, -87.628861879)</td>\n",
       "    </tr>\n",
       "    <tr>\n",
       "      <th>5</th>\n",
       "      <td>2020-12-17 15:40:05+00:00</td>\n",
       "      <td>41.885731</td>\n",
       "      <td>-87.625542</td>\n",
       "      <td>(41.885730611, -87.625542215)</td>\n",
       "    </tr>\n",
       "    <tr>\n",
       "      <th>6</th>\n",
       "      <td>2018-02-10 15:50:01+00:00</td>\n",
       "      <td>41.883491</td>\n",
       "      <td>-87.641244</td>\n",
       "      <td>(41.883490965, -87.641243905)</td>\n",
       "    </tr>\n",
       "    <tr>\n",
       "      <th>7</th>\n",
       "      <td>2018-02-10 15:50:01+00:00</td>\n",
       "      <td>41.883401</td>\n",
       "      <td>-87.627874</td>\n",
       "      <td>(41.883401379, -87.627874112)</td>\n",
       "    </tr>\n",
       "  </tbody>\n",
       "</table>\n",
       "</div>"
      ],
      "text/plain": [
       "                 updated_on   latitude  longitude  \\\n",
       "0 2018-02-28 15:56:25+00:00  41.884447 -87.639225   \n",
       "1 2023-10-07 15:42:05+00:00  41.888330 -87.625150   \n",
       "2 2023-01-03 15:40:27+00:00  41.885730 -87.625821   \n",
       "3 2020-01-13 15:41:18+00:00  41.884486 -87.628909   \n",
       "4 2018-02-10 15:50:01+00:00  41.885748 -87.628862   \n",
       "5 2020-12-17 15:40:05+00:00  41.885731 -87.625542   \n",
       "6 2018-02-10 15:50:01+00:00  41.883491 -87.641244   \n",
       "7 2018-02-10 15:50:01+00:00  41.883401 -87.627874   \n",
       "\n",
       "                        location  \n",
       "0  (41.884447496, -87.639224814)  \n",
       "1  (41.888329732, -87.625149941)  \n",
       "2  (41.885729587, -87.625821329)  \n",
       "3  (41.884486217, -87.628908795)  \n",
       "4   (41.88574828, -87.628861879)  \n",
       "5  (41.885730611, -87.625542215)  \n",
       "6  (41.883490965, -87.641243905)  \n",
       "7  (41.883401379, -87.627874112)  "
      ]
     },
     "execution_count": 12,
     "metadata": {},
     "output_type": "execute_result"
    }
   ],
   "source": [
    "# Scratch space for your code\n",
    "client.list_rows(table, selected_fields=table.schema[-4:], max_results = 8 ).to_dataframe()"
   ]
  },
  {
   "cell_type": "markdown",
   "id": "26699382",
   "metadata": {
    "papermill": {
     "duration": 0.005967,
     "end_time": "2025-02-12T10:19:00.639413",
     "exception": false,
     "start_time": "2025-02-12T10:19:00.633446",
     "status": "completed"
    },
    "tags": []
   },
   "source": [
    "# Keep going\n",
    "\n",
    "You've looked at the schema, but you haven't yet done anything exciting with the data itself. Things get more interesting when you get to the data, so keep going to **[write your first SQL query](https://www.kaggle.com/dansbecker/select-from-where).**"
   ]
  },
  {
   "cell_type": "markdown",
   "id": "cd9b0c7f",
   "metadata": {
    "papermill": {
     "duration": 0.006243,
     "end_time": "2025-02-12T10:19:00.652363",
     "exception": false,
     "start_time": "2025-02-12T10:19:00.646120",
     "status": "completed"
    },
    "tags": []
   },
   "source": [
    "---\n",
    "\n",
    "\n",
    "\n",
    "\n",
    "*Have questions or comments? Visit the [course discussion forum](https://www.kaggle.com/learn/intro-to-sql/discussion) to chat with other learners.*"
   ]
  }
 ],
 "metadata": {
  "kaggle": {
   "accelerator": "none",
   "dataSources": [
    {
     "datasetId": 22090,
     "sourceId": 28376,
     "sourceType": "datasetVersion"
    },
    {
     "datasetId": 6057,
     "sourceId": 285982,
     "sourceType": "datasetVersion"
    }
   ],
   "isGpuEnabled": false,
   "isInternetEnabled": false,
   "language": "python",
   "sourceType": "notebook"
  },
  "kernelspec": {
   "display_name": "Python 3",
   "language": "python",
   "name": "python3"
  },
  "language_info": {
   "codemirror_mode": {
    "name": "ipython",
    "version": 3
   },
   "file_extension": ".py",
   "mimetype": "text/x-python",
   "name": "python",
   "nbconvert_exporter": "python",
   "pygments_lexer": "ipython3",
   "version": "3.10.12"
  },
  "papermill": {
   "default_parameters": {},
   "duration": 23.904057,
   "end_time": "2025-02-12T10:19:02.183433",
   "environment_variables": {},
   "exception": null,
   "input_path": "__notebook__.ipynb",
   "output_path": "__notebook__.ipynb",
   "parameters": {},
   "start_time": "2025-02-12T10:18:38.279376",
   "version": "2.6.0"
  }
 },
 "nbformat": 4,
 "nbformat_minor": 5
}
